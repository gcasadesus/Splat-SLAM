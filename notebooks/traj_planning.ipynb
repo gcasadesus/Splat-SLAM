{
 "cells": [
  {
   "cell_type": "code",
   "execution_count": null,
   "metadata": {},
   "outputs": [],
   "source": [
    "from munch import munchify\n",
    "import sys\n",
    "import os\n",
    "import numpy as np\n",
    "\n",
    "if os.path.basename(os.getcwd()) != \"Splat-SLAM\":\n",
    "    os.chdir(\"..\")\n",
    "\n",
    "from thirdparty.glorie_slam import config\n",
    "from thirdparty.gaussian_splatting.scene.gaussian_model import GaussianModel\n",
    "\n",
    "%load_ext autoreload\n",
    "%autoreload 2"
   ]
  },
  {
   "cell_type": "code",
   "execution_count": 3,
   "metadata": {},
   "outputs": [],
   "source": [
    "config_path = \"configs/LAC/data_collection_2.yaml\"\n",
    "cfg = config.load_config(config_path, \"./configs/splat_slam.yaml\")"
   ]
  },
  {
   "cell_type": "code",
   "execution_count": 4,
   "metadata": {},
   "outputs": [],
   "source": [
    "model_params = munchify(cfg[\"mapping\"][\"model_params\"])\n",
    "use_spherical_harmonics = cfg[\"mapping\"][\"Training\"][\"spherical_harmonics\"]\n",
    "model_params.sh_degree = 3 if use_spherical_harmonics else 0\n",
    "gaussians = GaussianModel(model_params.sh_degree, config=cfg)"
   ]
  },
  {
   "cell_type": "code",
   "execution_count": 5,
   "metadata": {},
   "outputs": [],
   "source": [
    "ply_path = \"/home/shared/outputs/guillemc/LAC/data_collection_2/point_cloud/100.ply\"\n",
    "gaussians.load_ply(ply_path)"
   ]
  },
  {
   "cell_type": "code",
   "execution_count": null,
   "metadata": {},
   "outputs": [],
   "source": [
    "gaussians.get_xyz.shape"
   ]
  },
  {
   "cell_type": "code",
   "execution_count": 34,
   "metadata": {},
   "outputs": [],
   "source": [
    "import viser\n",
    "from viser import transforms as tf\n",
    "\n",
    "from thirdparty.gaussian_splatting.utils.general_utils import reconstruct_sigma"
   ]
  },
  {
   "cell_type": "code",
   "execution_count": null,
   "metadata": {},
   "outputs": [],
   "source": [
    "server = viser.ViserServer()\n",
    "server.gui.configure_theme(dark_mode=True)\n",
    "gui_reset_up = server.gui.add_button(\n",
    "    \"Reset up direction\",\n",
    "    hint=\"Set the camera control 'up' direction to the current camera's 'up'.\",\n",
    ")\n",
    "\n",
    "\n",
    "@gui_reset_up.on_click\n",
    "def _(event: viser.GuiEvent) -> None:\n",
    "    client = event.client\n",
    "    assert client is not None\n",
    "    client.camera.up_direction = tf.SO3(client.camera.wxyz) @ np.array([0.0, -1.0, 0.0])"
   ]
  },
  {
   "cell_type": "code",
   "execution_count": null,
   "metadata": {},
   "outputs": [],
   "source": [
    "gs_handle = server.scene.add_gaussian_splats(\n",
    "    \"splat map\",\n",
    "    centers=gaussians.get_xyz.cpu().detach().numpy(),\n",
    "    rgbs=gaussians.get_features.cpu().detach().numpy().squeeze(),\n",
    "    opacities=gaussians.get_opacity.cpu().detach().numpy(),\n",
    "    covariances=reconstruct_sigma(gaussians.get_covariance()).cpu().detach().numpy(),\n",
    ")"
   ]
  },
  {
   "cell_type": "code",
   "execution_count": null,
   "metadata": {},
   "outputs": [],
   "source": []
  }
 ],
 "metadata": {
  "kernelspec": {
   "display_name": "splat-slam",
   "language": "python",
   "name": "python3"
  },
  "language_info": {
   "codemirror_mode": {
    "name": "ipython",
    "version": 3
   },
   "file_extension": ".py",
   "mimetype": "text/x-python",
   "name": "python",
   "nbconvert_exporter": "python",
   "pygments_lexer": "ipython3",
   "version": "3.10.16"
  }
 },
 "nbformat": 4,
 "nbformat_minor": 2
}
