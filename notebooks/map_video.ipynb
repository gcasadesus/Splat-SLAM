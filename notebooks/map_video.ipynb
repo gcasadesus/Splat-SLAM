{
 "cells": [
  {
   "cell_type": "code",
   "execution_count": null,
   "metadata": {},
   "outputs": [
    {
     "name": "stdout",
     "output_type": "stream",
     "text": [
      "/home/guillemc/dev/slam/Splat-SLAM\n"
     ]
    }
   ],
   "source": [
    "from munch import munchify\n",
    "import sys\n",
    "import os\n",
    "\n",
    "if os.path.basename(os.getcwd()) != \"Splat-SLAM\":\n",
    "    os.chdir(\"..\")\n",
    "    \n",
    "from thirdparty.glorie_slam import config\n",
    "from thirdparty.gaussian_splatting.scene.gaussian_model import GaussianModel"
   ]
  },
  {
   "cell_type": "code",
   "execution_count": 17,
   "metadata": {},
   "outputs": [],
   "source": [
    "config_path = \"configs/LAC/data_collection_2.yaml\"\n",
    "cfg = config.load_config(config_path, \"./configs/splat_slam.yaml\")"
   ]
  },
  {
   "cell_type": "code",
   "execution_count": null,
   "metadata": {},
   "outputs": [],
   "source": [
    "model_params = munchify(cfg[\"mapping\"][\"model_params\"])\n",
    "use_spherical_harmonics = cfg[\"mapping\"][\"Training\"][\"spherical_harmonics\"]\n",
    "model_params.sh_degree = 3 if use_spherical_harmonics else 0\n",
    "gaussians = GaussianModel(model_params.sh_degree, config=cfg)"
   ]
  }
 ],
 "metadata": {
  "kernelspec": {
   "display_name": "splat-slam",
   "language": "python",
   "name": "python3"
  },
  "language_info": {
   "codemirror_mode": {
    "name": "ipython",
    "version": 3
   },
   "file_extension": ".py",
   "mimetype": "text/x-python",
   "name": "python",
   "nbconvert_exporter": "python",
   "pygments_lexer": "ipython3",
   "version": "3.10.16"
  }
 },
 "nbformat": 4,
 "nbformat_minor": 2
}
